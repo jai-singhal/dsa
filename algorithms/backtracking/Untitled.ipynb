{
 "cells": [
  {
   "cell_type": "code",
   "execution_count": 20,
   "metadata": {},
   "outputs": [
    {
     "name": "stdout",
     "output_type": "stream",
     "text": [
      "How many assessment?: 2\n",
      "Enter the name of assesment 1: exam\n",
      "Enter the weight of exam: 50\n",
      "Enter the name of assesment 2: oral\n",
      "Enter the weight of oral: 50\n",
      "Please enter the number of students in the unit: 2\n",
      "Enter the name of the student 1: jai\n",
      "What did jai get out of 50 in exam : 21\n",
      "21 out of 50 is a Fail\n",
      "What did jai get out of 50 in oral : 40\n",
      "40 out of 50 is a High Distinction\n",
      "61 out of 100 is Credit\n",
      "jai has a total marks of 61(C)\n",
      "Enter the name of the student 2: sanyam\n",
      "What did sanyam get out of 50 in exam : 2\n",
      "2 out of 50 is a Fail\n",
      "What did sanyam get out of 50 in oral : 21\n",
      "21 out of 50 is a Fail\n",
      "23 out of 100 is Fail\n",
      "sanyam has a total marks of 23(Fail)\n",
      "All marks are entered\n",
      "The class average is 42.0 (Fail)\n",
      "The Top student is: jai with a total of 61\n"
     ]
    }
   ],
   "source": [
    "# HelloWorld!#Greet user\n",
    "\n",
    "def lettergrade(testscore, is_subject = False):\n",
    "    factor = 1\n",
    "    if is_subject:\n",
    "        factor = 2\n",
    "    if testscore in range(80//factor, 101//factor):\n",
    "        return [\"HD\", \"High Distinction\"]\n",
    "    elif testscore in range(70//factor, 81//factor):\n",
    "        return [\"D\", \"Distinction\"]\n",
    "    elif testscore in range(60//factor, 71//factor):\n",
    "        return [\"C\", \"Credit\"]\n",
    "    elif testscore in range(50//factor, 61//factor):\n",
    "        return [\"P\", \"Pass\"]\n",
    "    else: \n",
    "        return [\"Fail\", \"Fail\"]\n",
    "    \n",
    "    \n",
    "def main():\n",
    "    numAss = int(input('How many assessment?: '))\n",
    "\n",
    "    if type(numAss) is not int:\n",
    "        print(\"Wrong Input\")\n",
    "        return\n",
    "\n",
    "    names = []  # names of strings\n",
    "    weights = []  # integers of weights\n",
    "\n",
    "    for x in range(0, numAss):\n",
    "        names.append(input(\"Enter the name of assesment \" + str(x + 1) + \": \"))  # x+1 to cycle through from 0 to numAss, appending the input onto the list named, 'names'.\n",
    "        weights.append(int(input(\"Enter the weight of \" + names[x] + \": \")))  # using the variable just gained for this prompt in 'names' to add onto the input for the integer list for weights.\n",
    "\n",
    "    totalWeight = sum(weights)\n",
    "\n",
    "    numStudents = 0 #Set variable numStudents to 0 so that it can run the first time\n",
    "    if totalWeight != 100:\n",
    "        print('The total value of weighting must equal 100, please try again!! ')\n",
    "    else:\n",
    "        numStudents= int(input('Please enter the number of students in the unit: '))\n",
    "\n",
    "\n",
    "    totalMarksObtanied = []\n",
    "    studentNames = []\n",
    "    for x in range(0, numStudents): #First loop, iterating 'numStudents' amount of times\n",
    "        name = input('Enter the name of the student '+str(x+1) + \": \")\n",
    "        studentNames.append(name)\n",
    "        scoreObtained = 0\n",
    "        for y in range(0, len(names)):\n",
    "            score=int(input('What did ' + name + ' get out of '+ str(weights[x])+' in ' + names[y] + \" : \"))\n",
    "            print(str(score) + \" out of \" + str(weights[y]) + \" is a \" + lettergrade(score, True)[1])\n",
    "            scoreObtained += score\n",
    "\n",
    "        totalMarksObtanied.append(scoreObtained)\n",
    "        grade = lettergrade(scoreObtained)\n",
    "        print(str(scoreObtained) + \" out of \" + str(totalWeight) + \" is \" + grade[1])\n",
    "        print(name + \" has a total marks of \" + str(scoreObtained) + \"(\" + grade[0] + \")\")  \n",
    "\n",
    "\n",
    "    print(\"All marks are entered\")\n",
    "    avg = sum(totalMarksObtanied)/len(totalMarksObtanied)\n",
    "    print(\"The class average is \" + str(avg) + \" (\" + lettergrade(int(avg))[1]  + \")\")\n",
    "    maxMarks = max(totalMarksObtanied)\n",
    "    print(\"The Top student is: \" + str(studentNames[totalMarksObtanied.index(maxMarks)]) + \" with a total of \" + str(maxMarks))\n",
    "\n",
    "    \n",
    "    \n",
    "if __name__ == \"__main__\":\n",
    "    main()\n",
    "    "
   ]
  },
  {
   "cell_type": "code",
   "execution_count": 16,
   "metadata": {},
   "outputs": [
    {
     "data": {
      "text/plain": [
       "True"
      ]
     },
     "execution_count": 16,
     "metadata": {},
     "output_type": "execute_result"
    }
   ],
   "source": [
    "2 in range(1, 5)"
   ]
  },
  {
   "cell_type": "code",
   "execution_count": 5,
   "metadata": {},
   "outputs": [
    {
     "data": {
      "text/plain": [
       "[]"
      ]
     },
     "execution_count": 5,
     "metadata": {},
     "output_type": "execute_result"
    }
   ],
   "source": [
    "[]."
   ]
  }
 ],
 "metadata": {
  "kernelspec": {
   "display_name": "Python 3",
   "language": "python",
   "name": "python3"
  },
  "language_info": {
   "codemirror_mode": {
    "name": "ipython",
    "version": 3
   },
   "file_extension": ".py",
   "mimetype": "text/x-python",
   "name": "python",
   "nbconvert_exporter": "python",
   "pygments_lexer": "ipython3",
   "version": "3.6.4"
  }
 },
 "nbformat": 4,
 "nbformat_minor": 2
}
