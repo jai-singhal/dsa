{
 "cells": [
  {
   "cell_type": "code",
   "execution_count": 4,
   "metadata": {},
   "outputs": [
    {
     "name": "stdout",
     "output_type": "stream",
     "text": [
      "How many assessment?: 2\n",
      "Enter the name of assesment 1: ass1\n",
      "Enter the weight of ass1: 50\n",
      "Enter the name of assesment 2: ass2\n",
      "Enter the weight of ass2: 50\n",
      "The names of your assessments are : ['ass1', 'ass2']\n",
      "The weightings of your assessments are : [50, 50]\n",
      "Please enter the number of students in the unit2\n",
      "Enter the name of the student1name1\n",
      " What did name1 get out of 50 for name1 130\n",
      " What did name1 get out of 50 for name1 140\n",
      "st1has a total marks 70( D)\n",
      "Enter the name of the student2name2\n",
      " What did name2 get out of 50 for name2 240\n",
      " What did name2 get out of 50 for name2 230\n",
      "st2has a total marks 70( D)\n"
     ]
    }
   ],
   "source": [
    "# HelloWorld!#Greet user\n",
    "# print(\"-\"*10 + \"Hello user, welcome to 'StudentGrades 1.0'\" + \"-\"*10)\n",
    "\n",
    "# 1. Prompting the user for the number of assessments and storing as the variable numAss.\n",
    "\n",
    "def lettergrade(testscore):      \n",
    "    if testscore in range(80, 101):\n",
    "        return \"HD\"\n",
    "    elif testscore in range(70, 81):\n",
    "        return \"D\"\n",
    "    elif testscore in range(60, 71):\n",
    "        return \"C\"\n",
    "    elif testscore in range(50, 61):\n",
    "        return \"P\"\n",
    "    else: \n",
    "        return \"Fail\"\n",
    "    \n",
    "    \n",
    "numAss = int(input('How many assessment?: '))\n",
    "\n",
    "# 2. For each assessment, get the name and the assessment value. Store the names / values and lists of strings\n",
    "# and integers respectfully.\n",
    "\n",
    "# loop over numAss amount of times\n",
    "\n",
    "names = []  # names of strings\n",
    "weights = []  # integers of weights\n",
    "\n",
    "for x in range(0, numAss):\n",
    "    names.append(input(\"Enter the name of assesment \" + str(x + 1) + \": \"))  # x+1 to cycle through from 0 to numAss, appending the input onto the list named, 'names'.\n",
    "    weights.append(int(input(\"Enter the weight of \" + names[x] + \": \")))  # using the variable just gained for this prompt in 'names' to add onto the input for the integer list for weights.\n",
    "\n",
    "totalWeight = sum(weights)\n",
    "\n",
    "#3. If the sum of assessments does not equal 100, then display error message, otherwise continue\n",
    "numStudents = 0 #Set variable numStudents to 0 so that it can run the first time\n",
    "if totalWeight != 100:\n",
    "    print('The total value of weighting must equal 100, please try again')\n",
    "else:\n",
    "    numStudents= int(input('Please enter the number of students in the unit'))\n",
    "\n",
    "\n",
    "#4. Enter a loop that repeats numStudents amount of times, this loop must at first\n",
    "#Prompt the user the type the students name and store it as a variable\n",
    "#Calculate the users score and display it as a grade for the subject\n",
    "#Calculate the users average score \n",
    "\n",
    "for x in range(0, numStudents): #First loop, iterating 'numStudents' amount of times\n",
    "    name = input('Enter the name of the student '+str(x+1) + \": \")\n",
    "    scoreObtained = 0\n",
    "    for y in range(0, len(names)):\n",
    "        score=int(input(' What did ' + name + ' get out of '+ str(weights[x])+' for ' + name + \" \" + str(x+1)))\n",
    "        scoreObtained += score\n",
    "    print(studentsn[x] + \" has a total marks \" + str(scoreObtained) + \"( \" + lettergrade(scoreObtained) + \")\")  \n",
    "\n",
    "        \n",
    "\n",
    "\n",
    "########################THE GOAL OF THIS PART OF THE PROGRAM###################\n",
    "# A loop displaying the name of the first student, his mark for the first assessment, \n",
    "# the weighting of first assessment, and his grade (Using calculate grade function)\n",
    "# Eg. Ben(studentsn0) got 20 marks out of 50(weight0) in the exam(name0), he gets a fail.\n",
    "# #Ben(studentsn0) got 30 out of 40(weight1) for the paper (name1), he gets a credit\n",
    "#Ben(studentsn0) got 5 marks out of 10(weight2) for the paper(name2), get gets a credit\n",
    "#Ben has a total mark of 55 out 100 (Pass)\n",
    "\n",
    "# Then will complete this loop for the next student (studentn1)and so on until there are no more students left\n",
    "\n",
    "\n"
   ]
  },
  {
   "cell_type": "code",
   "execution_count": 16,
   "metadata": {},
   "outputs": [
    {
     "data": {
      "text/plain": [
       "True"
      ]
     },
     "execution_count": 16,
     "metadata": {},
     "output_type": "execute_result"
    }
   ],
   "source": [
    "2 in range(1, 5)"
   ]
  },
  {
   "cell_type": "code",
   "execution_count": null,
   "metadata": {},
   "outputs": [],
   "source": []
  }
 ],
 "metadata": {
  "kernelspec": {
   "display_name": "Python 3",
   "language": "python",
   "name": "python3"
  },
  "language_info": {
   "codemirror_mode": {
    "name": "ipython",
    "version": 3
   },
   "file_extension": ".py",
   "mimetype": "text/x-python",
   "name": "python",
   "nbconvert_exporter": "python",
   "pygments_lexer": "ipython3",
   "version": "3.6.4"
  }
 },
 "nbformat": 4,
 "nbformat_minor": 2
}
