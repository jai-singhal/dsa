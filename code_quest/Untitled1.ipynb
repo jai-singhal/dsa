{
 "cells": [
  {
   "cell_type": "code",
   "execution_count": 71,
   "metadata": {},
   "outputs": [],
   "source": [
    "import re\n",
    "\n",
    "def rotate(input1):\n",
    "    input1 = re.findall(r'[a-zA-Z]+', input1)\n",
    "    output = []\n",
    "    for word in input1:\n",
    "        if word == word[::-1]:\n",
    "            output.append(\"$\" + word + \"$\")\n",
    "        else:\n",
    "            output.append(word[::-1])\n",
    "\n",
    "    return \" \".join(output)"
   ]
  },
  {
   "cell_type": "code",
   "execution_count": 46,
   "metadata": {},
   "outputs": [
    {
     "data": {
      "text/plain": [
       "'arbez tab'"
      ]
     },
     "execution_count": 46,
     "metadata": {},
     "output_type": "execute_result"
    }
   ],
   "source": [
    "rotate(\"     zebra         bat \")"
   ]
  },
  {
   "cell_type": "code",
   "execution_count": 73,
   "metadata": {},
   "outputs": [
    {
     "data": {
      "text/plain": [
       "[0, 5, 2]"
      ]
     },
     "execution_count": 73,
     "metadata": {},
     "output_type": "execute_result"
    }
   ],
   "source": [
    "def interviewRound(input1, input2, input3, input4, input5):\n",
    "    studentInPannel = input3[0:input1]\n",
    "    nextTime = 0\n",
    "    nextStudent = 0\n",
    "    newStudent = input1\n",
    "    for t in range(2, input5 + 1):        \n",
    "        if studentInPannel[nextStudent%input1] == 0:\n",
    "            studentInPannel[nextStudent] = input3[newStudent]\n",
    "            nextStudent += 1\n",
    "            newStudent += 1\n",
    "        \n",
    "        if input4[nextTime] == t:\n",
    "            studentInPannel[nextStudent%input1] = 0\n",
    "            nextTime += 1\n",
    "\n",
    "    return studentInPannel\n",
    "\n",
    "\n",
    "interviewRound(3, 5, [3, 5, 2, 1, 4], [2, 4, 1, 3, 2], 2)"
   ]
  },
  {
   "cell_type": "code",
   "execution_count": null,
   "metadata": {},
   "outputs": [],
   "source": []
  }
 ],
 "metadata": {
  "kernelspec": {
   "display_name": "Python 3",
   "language": "python",
   "name": "python3"
  },
  "language_info": {
   "codemirror_mode": {
    "name": "ipython",
    "version": 3
   },
   "file_extension": ".py",
   "mimetype": "text/x-python",
   "name": "python",
   "nbconvert_exporter": "python",
   "pygments_lexer": "ipython3",
   "version": "3.6.4"
  }
 },
 "nbformat": 4,
 "nbformat_minor": 2
}
